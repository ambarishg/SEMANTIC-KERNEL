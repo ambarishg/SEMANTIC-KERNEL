{
 "cells": [
  {
   "cell_type": "code",
   "execution_count": 1,
   "metadata": {},
   "outputs": [],
   "source": [
    "import semantic_kernel as sk\n",
    "from semantic_kernel.connectors.ai.open_ai import AzureChatCompletion, OpenAIChatCompletion\n",
    "\n",
    "kernel = sk.Kernel()\n",
    "\n",
    "useAzureOpenAI = True\n",
    "\n",
    "# Configure AI service used by the kernel\n",
    "if useAzureOpenAI:\n",
    "    deployment, api_key, endpoint = sk.azure_openai_settings_from_dot_env()\n",
    "    kernel.add_chat_service(\"chat_completion\", AzureChatCompletion(deployment, endpoint, api_key))\n",
    "else:\n",
    "    api_key, org_id = sk.openai_settings_from_dot_env()\n",
    "    kernel.add_chat_service(\"chat-gpt\", OpenAIChatCompletion(\"gpt-3.5-turbo\", api_key, org_id))"
   ]
  },
  {
   "cell_type": "code",
   "execution_count": 2,
   "metadata": {},
   "outputs": [
    {
     "data": {
      "text/plain": [
       "<semantic_kernel.kernel.Kernel at 0x26175dfc8d0>"
      ]
     },
     "execution_count": 2,
     "metadata": {},
     "output_type": "execute_result"
    }
   ],
   "source": [
    "kernel"
   ]
  },
  {
   "cell_type": "code",
   "execution_count": 3,
   "metadata": {},
   "outputs": [],
   "source": [
    "sk_prompt = \"\"\"\n",
    "ChatBot can have a conversation with you about any topic.\n",
    "It can give explicit instructions or say 'I don't know' if it does not have an answer.\n",
    "\n",
    "{{$history}}\n",
    "User: {{$user_input}}\n",
    "ChatBot: \"\"\""
   ]
  },
  {
   "cell_type": "code",
   "execution_count": 4,
   "metadata": {},
   "outputs": [],
   "source": [
    "chat_function = kernel.create_semantic_function(sk_prompt, \"ChatBot\", max_tokens=2000, temperature=0.7, top_p=0.5)"
   ]
  },
  {
   "cell_type": "code",
   "execution_count": 5,
   "metadata": {},
   "outputs": [],
   "source": [
    "context = kernel.create_new_context()\n",
    "context[\"history\"] = \"\""
   ]
  },
  {
   "cell_type": "code",
   "execution_count": 6,
   "metadata": {},
   "outputs": [
    {
     "name": "stdout",
     "output_type": "stream",
     "text": [
      "Hello! I'd be happy to help you find some book suggestions. Can you please tell me what genre or specific topics you're interested in?\n"
     ]
    }
   ],
   "source": [
    "context[\"user_input\"] = \"Hi, I'm looking for book suggestions\"\n",
    "bot_answer = await chat_function.invoke_async(context=context)\n",
    "print(bot_answer)"
   ]
  },
  {
   "cell_type": "code",
   "execution_count": 7,
   "metadata": {},
   "outputs": [
    {
     "name": "stdout",
     "output_type": "stream",
     "text": [
      "\n",
      "User: Hi, I'm looking for book suggestions\n",
      "ChatBot: Hello! I'd be happy to help you find some book suggestions. Can you please tell me what genre or specific topics you're interested in?\n",
      "\n"
     ]
    }
   ],
   "source": [
    "context[\"history\"] += f\"\\nUser: {context['user_input']}\\nChatBot: {bot_answer}\\n\"\n",
    "print(context[\"history\"])"
   ]
  },
  {
   "cell_type": "code",
   "execution_count": 8,
   "metadata": {},
   "outputs": [],
   "source": [
    "async def chat(input_text: str) -> None:\n",
    "    # Save new message in the context variables\n",
    "    print(f\"User: {input_text}\")\n",
    "    context[\"user_input\"] = input_text\n",
    "\n",
    "    # Process the user message and get an answer\n",
    "    answer = await chat_function.invoke_async(context=context)\n",
    "\n",
    "    # Show the response\n",
    "    print(f\"ChatBot: {answer}\")\n",
    "\n",
    "    # Append the new interaction to the chat history\n",
    "    context[\"history\"] += f\"\\nUser: {input_text}\\nChatBot: {answer}\\n\""
   ]
  },
  {
   "cell_type": "code",
   "execution_count": 9,
   "metadata": {},
   "outputs": [
    {
     "name": "stdout",
     "output_type": "stream",
     "text": [
      "User: I love history and philosophy, I'd like to learn something new about Greece, any suggestion?\n",
      "ChatBot: Great! Based on your interests in history, philosophy, and Greece, I have a few book suggestions for you:\n",
      "\n",
      "1. \"The Histories\" by Herodotus - This classic work is often considered the first work of history in Western literature. It covers the history of the ancient world, including Greece, Egypt, and Persia.\n",
      "\n",
      "2. \"The Peloponnesian War\" by Thucydides - This historical account covers the conflict between Athens and Sparta in ancient Greece, providing insights into the political and military strategies of the time.\n",
      "\n",
      "3. \"The Republic\" by Plato - This philosophical work is a cornerstone of Western philosophy and covers topics such as justice, politics, and the nature of the ideal state.\n",
      "\n",
      "4. \"Nicomachean Ethics\" by Aristotle - This book is a foundational work in moral philosophy, discussing virtues, happiness, and the good life.\n",
      "\n",
      "5. \"The Iliad\" and \"The Odyssey\" by Homer - These epic poems are essential reads for anyone interested in ancient Greek culture and mythology.\n",
      "\n",
      "6. \"Meditations\" by Marcus Aurelius - This collection of personal writings by the Roman Emperor and Stoic philosopher offers insights into his thoughts on life, duty, and the nature of the universe.\n",
      "\n",
      "I hope you find these suggestions helpful and enjoy exploring the rich history and philosophy of ancient Greece!\n"
     ]
    }
   ],
   "source": [
    "await chat(\"I love history and philosophy, I'd like to learn something new about Greece, any suggestion?\")"
   ]
  },
  {
   "cell_type": "code",
   "execution_count": 10,
   "metadata": {},
   "outputs": [
    {
     "name": "stdout",
     "output_type": "stream",
     "text": [
      "User: that sounds interesting, what is it about?\n",
      "ChatBot: I assume you're asking about one of the books I mentioned earlier. Please let me know which book you'd like more information on, and I'll be happy to provide a brief summary.\n"
     ]
    }
   ],
   "source": [
    "await chat(\"that sounds interesting, what is it about?\")"
   ]
  },
  {
   "cell_type": "code",
   "execution_count": 11,
   "metadata": {},
   "outputs": [
    {
     "name": "stdout",
     "output_type": "stream",
     "text": [
      "\n",
      "User: Hi, I'm looking for book suggestions\n",
      "ChatBot: Hello! I'd be happy to help you find some book suggestions. Can you please tell me what genre or specific topics you're interested in?\n",
      "\n",
      "User: I love history and philosophy, I'd like to learn something new about Greece, any suggestion?\n",
      "ChatBot: Great! Based on your interests in history, philosophy, and Greece, I have a few book suggestions for you:\n",
      "\n",
      "1. \"The Histories\" by Herodotus - This classic work is often considered the first work of history in Western literature. It covers the history of the ancient world, including Greece, Egypt, and Persia.\n",
      "\n",
      "2. \"The Peloponnesian War\" by Thucydides - This historical account covers the conflict between Athens and Sparta in ancient Greece, providing insights into the political and military strategies of the time.\n",
      "\n",
      "3. \"The Republic\" by Plato - This philosophical work is a cornerstone of Western philosophy and covers topics such as justice, politics, and the nature of the ideal state.\n",
      "\n",
      "4. \"Nicomachean Ethics\" by Aristotle - This book is a foundational work in moral philosophy, discussing virtues, happiness, and the good life.\n",
      "\n",
      "5. \"The Iliad\" and \"The Odyssey\" by Homer - These epic poems are essential reads for anyone interested in ancient Greek culture and mythology.\n",
      "\n",
      "6. \"Meditations\" by Marcus Aurelius - This collection of personal writings by the Roman Emperor and Stoic philosopher offers insights into his thoughts on life, duty, and the nature of the universe.\n",
      "\n",
      "I hope you find these suggestions helpful and enjoy exploring the rich history and philosophy of ancient Greece!\n",
      "\n",
      "User: that sounds interesting, what is it about?\n",
      "ChatBot: I assume you're asking about one of the books I mentioned earlier. Please let me know which book you'd like more information on, and I'll be happy to provide a brief summary.\n",
      "\n"
     ]
    }
   ],
   "source": [
    "print(context[\"history\"])"
   ]
  },
  {
   "cell_type": "code",
   "execution_count": null,
   "metadata": {},
   "outputs": [],
   "source": []
  }
 ],
 "metadata": {
  "kernelspec": {
   "display_name": ".venv",
   "language": "python",
   "name": "python3"
  },
  "language_info": {
   "codemirror_mode": {
    "name": "ipython",
    "version": 3
   },
   "file_extension": ".py",
   "mimetype": "text/x-python",
   "name": "python",
   "nbconvert_exporter": "python",
   "pygments_lexer": "ipython3",
   "version": "3.11.6"
  }
 },
 "nbformat": 4,
 "nbformat_minor": 2
}
