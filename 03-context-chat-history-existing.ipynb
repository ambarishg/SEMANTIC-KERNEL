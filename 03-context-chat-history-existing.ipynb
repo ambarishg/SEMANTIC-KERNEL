{
 "cells": [
  {
   "cell_type": "code",
   "execution_count": 1,
   "metadata": {},
   "outputs": [],
   "source": [
    "import semantic_kernel as sk\n",
    "from semantic_kernel.connectors.ai.open_ai import AzureChatCompletion, OpenAIChatCompletion\n",
    "\n",
    "kernel = sk.Kernel()\n",
    "\n",
    "useAzureOpenAI = True\n",
    "\n",
    "# Configure AI service used by the kernel\n",
    "if useAzureOpenAI:\n",
    "    deployment, api_key, endpoint = sk.azure_openai_settings_from_dot_env()\n",
    "    kernel.add_chat_service(\"chat_completion\", AzureChatCompletion(deployment, endpoint, api_key))\n",
    "else:\n",
    "    api_key, org_id = sk.openai_settings_from_dot_env()\n",
    "    kernel.add_chat_service(\"chat-gpt\", OpenAIChatCompletion(\"gpt-3.5-turbo\", api_key, org_id))"
   ]
  },
  {
   "cell_type": "code",
   "execution_count": 2,
   "metadata": {},
   "outputs": [
    {
     "data": {
      "text/plain": [
       "<semantic_kernel.kernel.Kernel at 0x1a590aebb90>"
      ]
     },
     "execution_count": 2,
     "metadata": {},
     "output_type": "execute_result"
    }
   ],
   "source": [
    "kernel"
   ]
  },
  {
   "cell_type": "code",
   "execution_count": 3,
   "metadata": {},
   "outputs": [],
   "source": [
    "sk_prompt = \"\"\"\n",
    "ChatBot can have a conversation with you about any topic.\n",
    "It can give explicit instructions or say 'I don't know' if it does not have an answer.\n",
    "\n",
    "{{$history}}\n",
    "User: {{$user_input}}\n",
    "ChatBot: \"\"\""
   ]
  },
  {
   "cell_type": "code",
   "execution_count": 4,
   "metadata": {},
   "outputs": [],
   "source": [
    "chat_function = kernel.create_semantic_function(\n",
    "    prompt_template = sk_prompt, \n",
    "    function_name = \"ChatBot\", \n",
    "    skill_name=\"ChatBotSkill\",\n",
    "    max_tokens=2000, \n",
    "    temperature=0.7, \n",
    "    top_p=0.5)"
   ]
  },
  {
   "cell_type": "code",
   "execution_count": 5,
   "metadata": {},
   "outputs": [],
   "source": [
    "context = kernel.create_new_context()\n",
    "context[\"history\"] = \"\"\"\n",
    "The men's high jump event at the 2020 Summer Olympics took place between 30 July and 1 August 2021 at the Olympic Stadium.\n",
    "33 athletes from 24 nations competed; the total possible number depended on how many nations would use universality places\n",
    "to enter athletes in addition to the 32 qualifying through mark or ranking (no universality places were used in 2021).\n",
    "Italian athlete Gianmarco Tamberi along with Qatari athlete Mutaz Essa Barshim emerged as joint winners of the event following\n",
    "a tie between both of them as they cleared 2.37m. Both Tamberi and Barshim agreed to share the gold medal in a rare instance\n",
    "where the athletes of different nations had agreed to share the same medal in the history of Olympics.\n",
    "Barshim in particular was heard to ask a competition official \"Can we have two golds?\" in response to being offered a\n",
    "'jump off'. Maksim Nedasekau of Belarus took bronze. The medals were the first ever in the men's high jump for Italy and\n",
    "Belarus, the first gold in the men's high jump for Italy and Qatar, and the third consecutive medal in the men's high jump\n",
    "for Qatar (all by Barshim). Barshim became only the second man to earn three medals in high jump, joining Patrik Sjöberg\n",
    "of Sweden (1984 to 1992).\"\"\""
   ]
  },
  {
   "cell_type": "code",
   "execution_count": 6,
   "metadata": {},
   "outputs": [
    {
     "name": "stdout",
     "output_type": "stream",
     "text": [
      "In the 2020 Summer Olympics men's high jump, Italian athlete Gianmarco Tamberi and Qatari athlete Mutaz Essa Barshim both won gold medals. They agreed to share the gold after tying with a clearance of 2.37m.\n"
     ]
    }
   ],
   "source": [
    "context[\"user_input\"] = \"Who won the gold in 2020 Summer Olympics men's high jump?\"\n",
    "bot_answer = await chat_function.invoke_async(context=context)\n",
    "print(bot_answer)"
   ]
  },
  {
   "cell_type": "code",
   "execution_count": 7,
   "metadata": {},
   "outputs": [
    {
     "name": "stdout",
     "output_type": "stream",
     "text": [
      "\n",
      "The men's high jump event at the 2020 Summer Olympics took place between 30 July and 1 August 2021 at the Olympic Stadium.\n",
      "33 athletes from 24 nations competed; the total possible number depended on how many nations would use universality places\n",
      "to enter athletes in addition to the 32 qualifying through mark or ranking (no universality places were used in 2021).\n",
      "Italian athlete Gianmarco Tamberi along with Qatari athlete Mutaz Essa Barshim emerged as joint winners of the event following\n",
      "a tie between both of them as they cleared 2.37m. Both Tamberi and Barshim agreed to share the gold medal in a rare instance\n",
      "where the athletes of different nations had agreed to share the same medal in the history of Olympics.\n",
      "Barshim in particular was heard to ask a competition official \"Can we have two golds?\" in response to being offered a\n",
      "'jump off'. Maksim Nedasekau of Belarus took bronze. The medals were the first ever in the men's high jump for Italy and\n",
      "Belarus, the first gold in the men's high jump for Italy and Qatar, and the third consecutive medal in the men's high jump\n",
      "for Qatar (all by Barshim). Barshim became only the second man to earn three medals in high jump, joining Patrik Sjöberg\n",
      "of Sweden (1984 to 1992).\n",
      "User: Who won the gold in 2020 Summer Olympics men's high jump?\n",
      "ChatBot: In the 2020 Summer Olympics men's high jump, Italian athlete Gianmarco Tamberi and Qatari athlete Mutaz Essa Barshim both won gold medals. They agreed to share the gold after tying with a clearance of 2.37m.\n",
      "\n"
     ]
    }
   ],
   "source": [
    "context[\"history\"] += f\"\\nUser: {context['user_input']}\\nChatBot: {bot_answer}\\n\"\n",
    "print(context[\"history\"])"
   ]
  },
  {
   "cell_type": "code",
   "execution_count": 8,
   "metadata": {},
   "outputs": [],
   "source": [
    "async def chat(input_text: str) -> None:\n",
    "    # Save new message in the context variables\n",
    "    print(f\"User: {input_text}\")\n",
    "    context[\"user_input\"] = input_text\n",
    "\n",
    "    # Process the user message and get an answer\n",
    "    answer = await chat_function.invoke_async(context=context)\n",
    "\n",
    "    # Show the response\n",
    "    print(f\"ChatBot: {answer}\")\n",
    "\n",
    "    # Append the new interaction to the chat history\n",
    "    context[\"history\"] += f\"\\nUser: {input_text}\\nChatBot: {answer}\\n\""
   ]
  },
  {
   "cell_type": "code",
   "execution_count": 9,
   "metadata": {},
   "outputs": [
    {
     "name": "stdout",
     "output_type": "stream",
     "text": [
      "User: Who won the bronze in 2020 Summer Olympics men's high jump?\n",
      "ChatBot: Maksim Nedasekau of Belarus won the bronze medal in the 2020 Summer Olympics men's high jump.\n"
     ]
    }
   ],
   "source": [
    "await chat(\"Who won the bronze in 2020 Summer Olympics men's high jump?\")"
   ]
  },
  {
   "cell_type": "code",
   "execution_count": 10,
   "metadata": {},
   "outputs": [
    {
     "name": "stdout",
     "output_type": "stream",
     "text": [
      "User: Who won the silver\n",
      "ChatBot: In the 2020 Summer Olympics men's high jump, there was no silver medal awarded because the gold medal was shared between Gianmarco Tamberi of Italy and Mutaz Essa Barshim of Qatar. Maksim Nedasekau of Belarus won the bronze medal.\n"
     ]
    }
   ],
   "source": [
    "await chat(\"Who won the silver\")"
   ]
  },
  {
   "cell_type": "code",
   "execution_count": 11,
   "metadata": {},
   "outputs": [
    {
     "name": "stdout",
     "output_type": "stream",
     "text": [
      "User: Who won the bronze\n",
      "ChatBot: Maksim Nedasekau of Belarus won the bronze medal in the 2020 Summer Olympics men's high jump.\n"
     ]
    }
   ],
   "source": [
    "await chat(\"Who won the bronze\")"
   ]
  },
  {
   "cell_type": "code",
   "execution_count": 12,
   "metadata": {},
   "outputs": [
    {
     "name": "stdout",
     "output_type": "stream",
     "text": [
      "\n",
      "The men's high jump event at the 2020 Summer Olympics took place between 30 July and 1 August 2021 at the Olympic Stadium.\n",
      "33 athletes from 24 nations competed; the total possible number depended on how many nations would use universality places\n",
      "to enter athletes in addition to the 32 qualifying through mark or ranking (no universality places were used in 2021).\n",
      "Italian athlete Gianmarco Tamberi along with Qatari athlete Mutaz Essa Barshim emerged as joint winners of the event following\n",
      "a tie between both of them as they cleared 2.37m. Both Tamberi and Barshim agreed to share the gold medal in a rare instance\n",
      "where the athletes of different nations had agreed to share the same medal in the history of Olympics.\n",
      "Barshim in particular was heard to ask a competition official \"Can we have two golds?\" in response to being offered a\n",
      "'jump off'. Maksim Nedasekau of Belarus took bronze. The medals were the first ever in the men's high jump for Italy and\n",
      "Belarus, the first gold in the men's high jump for Italy and Qatar, and the third consecutive medal in the men's high jump\n",
      "for Qatar (all by Barshim). Barshim became only the second man to earn three medals in high jump, joining Patrik Sjöberg\n",
      "of Sweden (1984 to 1992).\n",
      "User: Who won the gold in 2020 Summer Olympics men's high jump?\n",
      "ChatBot: In the 2020 Summer Olympics men's high jump, Italian athlete Gianmarco Tamberi and Qatari athlete Mutaz Essa Barshim both won gold medals. They agreed to share the gold after tying with a clearance of 2.37m.\n",
      "\n",
      "User: Who won the bronze in 2020 Summer Olympics men's high jump?\n",
      "ChatBot: Maksim Nedasekau of Belarus won the bronze medal in the 2020 Summer Olympics men's high jump.\n",
      "\n",
      "User: Who won the silver\n",
      "ChatBot: In the 2020 Summer Olympics men's high jump, there was no silver medal awarded because the gold medal was shared between Gianmarco Tamberi of Italy and Mutaz Essa Barshim of Qatar. Maksim Nedasekau of Belarus won the bronze medal.\n",
      "\n",
      "User: Who won the bronze\n",
      "ChatBot: Maksim Nedasekau of Belarus won the bronze medal in the 2020 Summer Olympics men's high jump.\n",
      "\n"
     ]
    }
   ],
   "source": [
    "print(context[\"history\"])"
   ]
  },
  {
   "cell_type": "code",
   "execution_count": 13,
   "metadata": {},
   "outputs": [
    {
     "name": "stdout",
     "output_type": "stream",
     "text": [
      "User: How was the Olympic Stadium?\n",
      "ChatBot: The Olympic Stadium for the 2020 Summer Olympics, also known as the Japan National Stadium, is a multi-purpose stadium located in Tokyo, Japan. It was designed by architect Kengo Kuma and completed in November 2019. The stadium has a seating capacity of 68,000 and features a modern design with a focus on sustainability and harmony with the surrounding environment. It was the main venue for the opening and closing ceremonies, as well as hosting athletics events and football matches during the Olympics. Overall, the Olympic Stadium received positive reviews for its design, functionality, and aesthetics.\n"
     ]
    }
   ],
   "source": [
    "await chat(\"How was the Olympic Stadium?\")"
   ]
  }
 ],
 "metadata": {
  "kernelspec": {
   "display_name": ".venv",
   "language": "python",
   "name": "python3"
  },
  "language_info": {
   "codemirror_mode": {
    "name": "ipython",
    "version": 3
   },
   "file_extension": ".py",
   "mimetype": "text/x-python",
   "name": "python",
   "nbconvert_exporter": "python",
   "pygments_lexer": "ipython3",
   "version": "3.11.6"
  }
 },
 "nbformat": 4,
 "nbformat_minor": 2
}
