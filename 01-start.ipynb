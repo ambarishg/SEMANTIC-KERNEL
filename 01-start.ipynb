{
 "cells": [
  {
   "cell_type": "code",
   "execution_count": 1,
   "metadata": {},
   "outputs": [
    {
     "name": "stdout",
     "output_type": "stream",
     "text": [
      "Requirement already satisfied: semantic-kernel==0.3.15.dev0 in c:\\ambarish\\semantic-kernel\\.venv\\lib\\site-packages (0.3.15.dev0)\n",
      "Requirement already satisfied: aiofiles<24.0.0,>=23.1.0 in c:\\ambarish\\semantic-kernel\\.venv\\lib\\site-packages (from semantic-kernel==0.3.15.dev0) (23.2.1)\n",
      "Requirement already satisfied: motor<4.0.0,>=3.3.1 in c:\\ambarish\\semantic-kernel\\.venv\\lib\\site-packages (from semantic-kernel==0.3.15.dev0) (3.3.2)\n",
      "Requirement already satisfied: numpy<2.0.0,>=1.24.2 in c:\\ambarish\\semantic-kernel\\.venv\\lib\\site-packages (from semantic-kernel==0.3.15.dev0) (1.26.2)\n",
      "Requirement already satisfied: openai<0.29,>=0.27 in c:\\ambarish\\semantic-kernel\\.venv\\lib\\site-packages (from semantic-kernel==0.3.15.dev0) (0.28.1)\n",
      "Requirement already satisfied: openapi_core<0.19.0,>=0.18.0 in c:\\ambarish\\semantic-kernel\\.venv\\lib\\site-packages (from semantic-kernel==0.3.15.dev0) (0.18.2)\n",
      "Requirement already satisfied: prance<24.0.0.0,>=23.6.21.0 in c:\\ambarish\\semantic-kernel\\.venv\\lib\\site-packages (from semantic-kernel==0.3.15.dev0) (23.6.21.0)\n",
      "Requirement already satisfied: pydantic<2 in c:\\ambarish\\semantic-kernel\\.venv\\lib\\site-packages (from semantic-kernel==0.3.15.dev0) (1.10.13)\n",
      "Requirement already satisfied: python-dotenv==1.0.0 in c:\\ambarish\\semantic-kernel\\.venv\\lib\\site-packages (from semantic-kernel==0.3.15.dev0) (1.0.0)\n",
      "Requirement already satisfied: regex<2024.0.0,>=2023.6.3 in c:\\ambarish\\semantic-kernel\\.venv\\lib\\site-packages (from semantic-kernel==0.3.15.dev0) (2023.10.3)\n",
      "Requirement already satisfied: pymongo<5,>=4.5 in c:\\ambarish\\semantic-kernel\\.venv\\lib\\site-packages (from motor<4.0.0,>=3.3.1->semantic-kernel==0.3.15.dev0) (4.6.0)\n",
      "Requirement already satisfied: requests>=2.20 in c:\\ambarish\\semantic-kernel\\.venv\\lib\\site-packages (from openai<0.29,>=0.27->semantic-kernel==0.3.15.dev0) (2.31.0)\n",
      "Requirement already satisfied: tqdm in c:\\ambarish\\semantic-kernel\\.venv\\lib\\site-packages (from openai<0.29,>=0.27->semantic-kernel==0.3.15.dev0) (4.66.1)\n",
      "Requirement already satisfied: aiohttp in c:\\ambarish\\semantic-kernel\\.venv\\lib\\site-packages (from openai<0.29,>=0.27->semantic-kernel==0.3.15.dev0) (3.9.0)\n",
      "Requirement already satisfied: asgiref<4.0.0,>=3.6.0 in c:\\ambarish\\semantic-kernel\\.venv\\lib\\site-packages (from openapi_core<0.19.0,>=0.18.0->semantic-kernel==0.3.15.dev0) (3.7.2)\n",
      "Requirement already satisfied: isodate in c:\\ambarish\\semantic-kernel\\.venv\\lib\\site-packages (from openapi_core<0.19.0,>=0.18.0->semantic-kernel==0.3.15.dev0) (0.6.1)\n",
      "Requirement already satisfied: jsonschema<5.0.0,>=4.18.0 in c:\\ambarish\\semantic-kernel\\.venv\\lib\\site-packages (from openapi_core<0.19.0,>=0.18.0->semantic-kernel==0.3.15.dev0) (4.20.0)\n",
      "Requirement already satisfied: jsonschema-spec<0.3.0,>=0.2.3 in c:\\ambarish\\semantic-kernel\\.venv\\lib\\site-packages (from openapi_core<0.19.0,>=0.18.0->semantic-kernel==0.3.15.dev0) (0.2.4)\n",
      "Requirement already satisfied: more-itertools in c:\\ambarish\\semantic-kernel\\.venv\\lib\\site-packages (from openapi_core<0.19.0,>=0.18.0->semantic-kernel==0.3.15.dev0) (10.1.0)\n",
      "Requirement already satisfied: openapi-schema-validator<0.7.0,>=0.6.0 in c:\\ambarish\\semantic-kernel\\.venv\\lib\\site-packages (from openapi_core<0.19.0,>=0.18.0->semantic-kernel==0.3.15.dev0) (0.6.2)\n",
      "Requirement already satisfied: openapi-spec-validator<0.8.0,>=0.7.1 in c:\\ambarish\\semantic-kernel\\.venv\\lib\\site-packages (from openapi_core<0.19.0,>=0.18.0->semantic-kernel==0.3.15.dev0) (0.7.1)\n",
      "Requirement already satisfied: parse in c:\\ambarish\\semantic-kernel\\.venv\\lib\\site-packages (from openapi_core<0.19.0,>=0.18.0->semantic-kernel==0.3.15.dev0) (1.20.0)\n",
      "Requirement already satisfied: werkzeug in c:\\ambarish\\semantic-kernel\\.venv\\lib\\site-packages (from openapi_core<0.19.0,>=0.18.0->semantic-kernel==0.3.15.dev0) (3.0.1)\n",
      "Requirement already satisfied: chardet>=3.0 in c:\\ambarish\\semantic-kernel\\.venv\\lib\\site-packages (from prance<24.0.0.0,>=23.6.21.0->semantic-kernel==0.3.15.dev0) (5.2.0)\n",
      "Requirement already satisfied: ruamel.yaml>=0.17.10 in c:\\ambarish\\semantic-kernel\\.venv\\lib\\site-packages (from prance<24.0.0.0,>=23.6.21.0->semantic-kernel==0.3.15.dev0) (0.18.5)\n",
      "Requirement already satisfied: six~=1.15 in c:\\ambarish\\semantic-kernel\\.venv\\lib\\site-packages (from prance<24.0.0.0,>=23.6.21.0->semantic-kernel==0.3.15.dev0) (1.16.0)\n",
      "Requirement already satisfied: packaging>=21.3 in c:\\ambarish\\semantic-kernel\\.venv\\lib\\site-packages (from prance<24.0.0.0,>=23.6.21.0->semantic-kernel==0.3.15.dev0) (23.2)\n",
      "Requirement already satisfied: typing-extensions>=4.2.0 in c:\\ambarish\\semantic-kernel\\.venv\\lib\\site-packages (from pydantic<2->semantic-kernel==0.3.15.dev0) (4.8.0)\n",
      "Requirement already satisfied: attrs>=22.2.0 in c:\\ambarish\\semantic-kernel\\.venv\\lib\\site-packages (from jsonschema<5.0.0,>=4.18.0->openapi_core<0.19.0,>=0.18.0->semantic-kernel==0.3.15.dev0) (23.1.0)\n",
      "Requirement already satisfied: jsonschema-specifications>=2023.03.6 in c:\\ambarish\\semantic-kernel\\.venv\\lib\\site-packages (from jsonschema<5.0.0,>=4.18.0->openapi_core<0.19.0,>=0.18.0->semantic-kernel==0.3.15.dev0) (2023.7.1)\n",
      "Requirement already satisfied: referencing>=0.28.4 in c:\\ambarish\\semantic-kernel\\.venv\\lib\\site-packages (from jsonschema<5.0.0,>=4.18.0->openapi_core<0.19.0,>=0.18.0->semantic-kernel==0.3.15.dev0) (0.30.2)\n",
      "Requirement already satisfied: rpds-py>=0.7.1 in c:\\ambarish\\semantic-kernel\\.venv\\lib\\site-packages (from jsonschema<5.0.0,>=4.18.0->openapi_core<0.19.0,>=0.18.0->semantic-kernel==0.3.15.dev0) (0.13.1)\n",
      "Requirement already satisfied: PyYAML>=5.1 in c:\\ambarish\\semantic-kernel\\.venv\\lib\\site-packages (from jsonschema-spec<0.3.0,>=0.2.3->openapi_core<0.19.0,>=0.18.0->semantic-kernel==0.3.15.dev0) (6.0.1)\n",
      "Requirement already satisfied: pathable<0.5.0,>=0.4.1 in c:\\ambarish\\semantic-kernel\\.venv\\lib\\site-packages (from jsonschema-spec<0.3.0,>=0.2.3->openapi_core<0.19.0,>=0.18.0->semantic-kernel==0.3.15.dev0) (0.4.3)\n",
      "Requirement already satisfied: rfc3339-validator in c:\\ambarish\\semantic-kernel\\.venv\\lib\\site-packages (from openapi-schema-validator<0.7.0,>=0.6.0->openapi_core<0.19.0,>=0.18.0->semantic-kernel==0.3.15.dev0) (0.1.4)\n",
      "Requirement already satisfied: jsonschema-path<0.4.0,>=0.3.1 in c:\\ambarish\\semantic-kernel\\.venv\\lib\\site-packages (from openapi-spec-validator<0.8.0,>=0.7.1->openapi_core<0.19.0,>=0.18.0->semantic-kernel==0.3.15.dev0) (0.3.2)\n",
      "Requirement already satisfied: lazy-object-proxy<2.0.0,>=1.7.1 in c:\\ambarish\\semantic-kernel\\.venv\\lib\\site-packages (from openapi-spec-validator<0.8.0,>=0.7.1->openapi_core<0.19.0,>=0.18.0->semantic-kernel==0.3.15.dev0) (1.9.0)\n",
      "Requirement already satisfied: dnspython<3.0.0,>=1.16.0 in c:\\ambarish\\semantic-kernel\\.venv\\lib\\site-packages (from pymongo<5,>=4.5->motor<4.0.0,>=3.3.1->semantic-kernel==0.3.15.dev0) (2.4.2)\n",
      "Requirement already satisfied: charset-normalizer<4,>=2 in c:\\ambarish\\semantic-kernel\\.venv\\lib\\site-packages (from requests>=2.20->openai<0.29,>=0.27->semantic-kernel==0.3.15.dev0) (3.3.2)\n",
      "Requirement already satisfied: idna<4,>=2.5 in c:\\ambarish\\semantic-kernel\\.venv\\lib\\site-packages (from requests>=2.20->openai<0.29,>=0.27->semantic-kernel==0.3.15.dev0) (3.5)\n",
      "Requirement already satisfied: urllib3<3,>=1.21.1 in c:\\ambarish\\semantic-kernel\\.venv\\lib\\site-packages (from requests>=2.20->openai<0.29,>=0.27->semantic-kernel==0.3.15.dev0) (2.1.0)\n",
      "Requirement already satisfied: certifi>=2017.4.17 in c:\\ambarish\\semantic-kernel\\.venv\\lib\\site-packages (from requests>=2.20->openai<0.29,>=0.27->semantic-kernel==0.3.15.dev0) (2023.11.17)\n",
      "Requirement already satisfied: ruamel.yaml.clib>=0.2.7 in c:\\ambarish\\semantic-kernel\\.venv\\lib\\site-packages (from ruamel.yaml>=0.17.10->prance<24.0.0.0,>=23.6.21.0->semantic-kernel==0.3.15.dev0) (0.2.8)\n",
      "Requirement already satisfied: multidict<7.0,>=4.5 in c:\\ambarish\\semantic-kernel\\.venv\\lib\\site-packages (from aiohttp->openai<0.29,>=0.27->semantic-kernel==0.3.15.dev0) (6.0.4)\n",
      "Requirement already satisfied: yarl<2.0,>=1.0 in c:\\ambarish\\semantic-kernel\\.venv\\lib\\site-packages (from aiohttp->openai<0.29,>=0.27->semantic-kernel==0.3.15.dev0) (1.9.3)\n",
      "Requirement already satisfied: frozenlist>=1.1.1 in c:\\ambarish\\semantic-kernel\\.venv\\lib\\site-packages (from aiohttp->openai<0.29,>=0.27->semantic-kernel==0.3.15.dev0) (1.4.0)\n",
      "Requirement already satisfied: aiosignal>=1.1.2 in c:\\ambarish\\semantic-kernel\\.venv\\lib\\site-packages (from aiohttp->openai<0.29,>=0.27->semantic-kernel==0.3.15.dev0) (1.3.1)\n",
      "Requirement already satisfied: colorama in c:\\ambarish\\semantic-kernel\\.venv\\lib\\site-packages (from tqdm->openai<0.29,>=0.27->semantic-kernel==0.3.15.dev0) (0.4.6)\n",
      "Requirement already satisfied: MarkupSafe>=2.1.1 in c:\\ambarish\\semantic-kernel\\.venv\\lib\\site-packages (from werkzeug->openapi_core<0.19.0,>=0.18.0->semantic-kernel==0.3.15.dev0) (2.1.3)\n"
     ]
    }
   ],
   "source": [
    "!python -m pip install semantic-kernel==0.3.15.dev0"
   ]
  },
  {
   "cell_type": "code",
   "execution_count": 2,
   "metadata": {},
   "outputs": [],
   "source": [
    "import semantic_kernel as sk\n",
    "\n",
    "kernel = sk.Kernel()"
   ]
  },
  {
   "cell_type": "code",
   "execution_count": 3,
   "metadata": {},
   "outputs": [
    {
     "data": {
      "text/plain": [
       "<semantic_kernel.kernel.Kernel at 0x1c91e0e8290>"
      ]
     },
     "execution_count": 3,
     "metadata": {},
     "output_type": "execute_result"
    }
   ],
   "source": [
    "kernel"
   ]
  },
  {
   "cell_type": "code",
   "execution_count": 4,
   "metadata": {},
   "outputs": [
    {
     "data": {
      "text/plain": [
       "<semantic_kernel.kernel.Kernel at 0x1c91e0e8290>"
      ]
     },
     "execution_count": 4,
     "metadata": {},
     "output_type": "execute_result"
    }
   ],
   "source": [
    "from semantic_kernel.connectors.ai.open_ai import AzureChatCompletion\n",
    "\n",
    "deployment, api_key, endpoint = sk.azure_openai_settings_from_dot_env()\n",
    "\n",
    "kernel.add_chat_service(\"chat_completion\", AzureChatCompletion(deployment, endpoint, api_key))"
   ]
  },
  {
   "cell_type": "code",
   "execution_count": 5,
   "metadata": {},
   "outputs": [],
   "source": [
    "skill = kernel.import_semantic_skill_from_directory(\"skills\", \"FunSkill\")\n",
    "slogan_function = skill[\"SloganMaker\"]"
   ]
  },
  {
   "cell_type": "code",
   "execution_count": 6,
   "metadata": {},
   "outputs": [
    {
     "data": {
      "text/plain": [
       "<semantic_kernel.orchestration.sk_function.SKFunction at 0x1c91e1b6610>"
      ]
     },
     "execution_count": 6,
     "metadata": {},
     "output_type": "execute_result"
    }
   ],
   "source": [
    "slogan_function"
   ]
  },
  {
   "cell_type": "code",
   "execution_count": 7,
   "metadata": {},
   "outputs": [
    {
     "name": "stdout",
     "output_type": "stream",
     "text": [
      "\"Experience NYC style without the price tag – Quality fashion, unbeatable value!\"\n"
     ]
    }
   ],
   "source": [
    "print(slogan_function())"
   ]
  },
  {
   "cell_type": "code",
   "execution_count": null,
   "metadata": {},
   "outputs": [],
   "source": []
  }
 ],
 "metadata": {
  "kernelspec": {
   "display_name": "sk",
   "language": "python",
   "name": "python3"
  },
  "language_info": {
   "codemirror_mode": {
    "name": "ipython",
    "version": 3
   },
   "file_extension": ".py",
   "mimetype": "text/x-python",
   "name": "python",
   "nbconvert_exporter": "python",
   "pygments_lexer": "ipython3",
   "version": "3.11.6"
  }
 },
 "nbformat": 4,
 "nbformat_minor": 2
}
